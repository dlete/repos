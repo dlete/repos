{
 "cells": [
  {
   "source": [
    "## Functions"
   ],
   "cell_type": "markdown",
   "metadata": {}
  },
  {
   "cell_type": "code",
   "execution_count": 1,
   "metadata": {},
   "outputs": [
    {
     "output_type": "execute_result",
     "data": {
      "text/plain": [
       "-5"
      ]
     },
     "metadata": {},
     "execution_count": 1
    }
   ],
   "source": [
    "# It is sometimes useful to specify arguments by name:\n",
    "def subtract(a=0, b=0):\n",
    "    return a - b\n",
    "\n",
    "subtract(10, 5) # returns 5\n",
    "subtract(0, 5)  # returns -5\n",
    "subtract(b=5)   # same as previous"
   ]
  },
  {
   "source": [
    "## Lists"
   ],
   "cell_type": "markdown",
   "metadata": {}
  },
  {
   "cell_type": "code",
   "execution_count": null,
   "metadata": {},
   "outputs": [],
   "source": [
    "# get or set the nth element of a list with square brackets\n",
    "x = range(10)   # is the list [0, 1, ..., 9]\n",
    "zero = x[0]     # equals 0, lists are 0-indexed\n",
    "one = x[1]      # equals 1\n",
    "nine = x[-1]    # equals 9, 'Pythonic' for last element\n",
    "eight = x[-2]   # equals 8, 'Pythonic' for next-to-last element\n",
    "x[0] = -1       # now x is [-1, 1, 2, 3, ..., 9]\n",
    "\n",
    "# use square brackets to “slice” lists:\n",
    "first_three = x[:3]                 # [-1, 1, 2]\n",
    "three_to_end = x[3:]                # [3, 4, ..., 9]\n",
    "one_to_four = x[1:5]                # [1, 2, 3, 4]\n",
    "last_three = x[-3:]                 # [7, 8, 9]\n",
    "without_first_and_last = x[1:-1]    # [1, 2, ..., 8]\n",
    "copy_of_x = x[:]                    # [-1, 1, 2, ..., 9]\n",
    "\n",
    "# check for list membership:\n",
    "1 in [1, 2, 3]  # True\n",
    "0 in [1, 2, 3]  # False\n",
    "\n",
    "# concatenate lists together:\n",
    "x = [1, 2, 3]\n",
    "x.extend([4, 5, 6])     # x is now [1,2,3,4,5,6]\n",
    "\n",
    "# list addition:\n",
    "x = [1, 2, 3]\n",
    "y = x + [4, 5, 6]       # y is [1, 2, 3, 4, 5, 6]; x is unchanged\n",
    "y = x[-1]               # equals 0\n",
    "z = len(x)              # equals 4\n",
    "\n",
    "# unpack lists if you know how many elements they contain:\n",
    "x, y = [1, 2]           # now x is 1, y is 2\n",
    "# although you will get a ValueError if you don’t have \n",
    "# the same numbers of elements on both sides.\n",
    "\n",
    "# It’s common to use an underscore for a value you’re going to throw away:\n",
    "_, y = [1, 2]   # now y == 2, didn't care about the first element\n",
    "\n",
    "# retrieve/find the index/position of a element in a list by its value. \n",
    "# in other words: What is the position of the element that has value 77?\n",
    "num_friends = [13, 6, 4, 3, 77, 6]\n",
    "index_of_person_with_77_friends = num_friends.index(77)"
   ]
  },
  {
   "source": [
    "## Tuples"
   ],
   "cell_type": "markdown",
   "metadata": {}
  },
  {
   "cell_type": "code",
   "execution_count": 2,
   "metadata": {},
   "outputs": [],
   "source": [
    "# Tuples are a convenient way to return multiple values from functions:\n",
    "def sum_and_product(x, y):\n",
    "    return (x + y),(x * y)\n",
    "\n",
    "sp = sum_and_product(2, 3)      # equals (5, 6)\n",
    "s, p = sum_and_product(5, 10)   # s is 15, p is 50"
   ]
  },
  {
   "source": [
    "## Dictionaries"
   ],
   "cell_type": "markdown",
   "metadata": {}
  },
  {
   "cell_type": "code",
   "execution_count": null,
   "metadata": {},
   "outputs": [],
   "source": [
    "# You can check for the existence of a key using in :\n",
    "joel_has_grade = \"Joel\" in grades   # True\n",
    "kate_has_grade = \"Kate\" in grades   # False\n",
    "\n",
    "# Dictionaries have a get method that returns a \n",
    "# default value (instead of raising an exception) w\n",
    "# hen you look up a key that’s not in the dictionary:\n",
    "joels_grade = grades.get(\"Joel\", 0)     # equals 80\n",
    "kates_grade = grades.get(\"Kate\", 0)     # equals 0\n",
    "no_ones_grade = grades.get(\"No One\")    # default default is None\n",
    "\n",
    "# Besides looking for specific keys we can look at all of them:\n",
    "tweet_keys = tweet.keys()       # list of keys\n",
    "tweet_values = tweet.values()   # list of values\n",
    "tweet_items = tweet.items()     # list of (key, value) tuples\n",
    "\n",
    "\"user\" in tweet_keys        # True, but uses a slow list in\n",
    "\"user\" in tweet             # more Pythonic, uses faster dict in\n",
    "\"joelgrus\" in tweet_values  # True"
   ]
  },
  {
   "source": [
    "### defaultdict\n",
    "\n",
    "A defaultdict is like a regular dictionary, except that when you try to look up a key it doesn’t contain, it first adds a value for it using a zero-argument function you provided when you created it. In order to use defaultdict s, you have to import them from collections :\n",
    "\n",
    "```python\n",
    "from collections import defaultdict\n",
    "\n",
    "word_counts = defaultdict(int)      # int() produces 0\n",
    "for word in document:\n",
    "    word_counts[word] += 1\n",
    "```"
   ],
   "cell_type": "markdown",
   "metadata": {}
  },
  {
   "source": [
    "## Counter\n",
    "\n",
    "A Counter turns a sequence of values into a defaultdict(int)-like object mapping keys to counts. We will primarily use it to create histograms:\n",
    "\n",
    "```\n",
    "from collections import Counter\n",
    "c = Counter([0, 1, 2, 0])       # c is (basically) { 0 : 2, 1 : 1, 2 : 1 }\n",
    "```\n",
    "\n",
    "This gives us a very simple way to solve our word_counts problem:\n",
    "\n",
    "```\n",
    "word_counts = Counter(document)\n",
    "```\n",
    "\n",
    "A Counter instance has a most_common method that is frequently useful:\n",
    "\n",
    "```\n",
    "# print the 10 most common words and their counts\n",
    "for word, count in word_counts.most_common(10):\n",
    "    print word, count\n",
    "````"
   ],
   "cell_type": "markdown",
   "metadata": {}
  },
  {
   "source": [
    "## Control Flow"
   ],
   "cell_type": "markdown",
   "metadata": {}
  },
  {
   "cell_type": "code",
   "execution_count": null,
   "metadata": {},
   "outputs": [],
   "source": [
    "# You can also write a ternary if-then-else on one line:\n",
    "parity = \"even\" if x % 2 == 0 else \"odd\""
   ]
  },
  {
   "source": [
    "## Sorting"
   ],
   "cell_type": "markdown",
   "metadata": {}
  },
  {
   "cell_type": "code",
   "execution_count": null,
   "metadata": {},
   "outputs": [],
   "source": [
    "# Every Python list has a sort method that sorts it in place. If you don’t want to mess\n",
    "# up your list, you can use the sorted function, which returns a new list:\n",
    "x = [4,1,2,3]\n",
    "y = sorted(x)   # is [1,2,3,4], x is unchanged\n",
    "x.sort()        # now x is [1,2,3,4]\n",
    "\n",
    "\n",
    "# By default, sort (and sorted ) sort a list from smallest to largest based on naively\n",
    "# comparing the elements to one another.\n",
    "\n",
    "# If you want elements sorted from largest to smallest, you can specify a reverse=True\n",
    "# parameter. And instead of comparing the elements themselves, you can compare the\n",
    "# results of a function that you specify with key :\n",
    "\n",
    "# sort the list by absolute value from largest to smallest\n",
    "x = sorted([-4,1,-2,3], key=abs, reverse=True) # is [-4,3,-2,1]\n",
    "\n",
    "# sort the words and counts from highest count to lowest\n",
    "wc = sorted(word_counts.items(),\n",
    "            key=lambda (word, count): count,\n",
    "            reverse=True)"
   ]
  },
  {
   "source": [
    "## enumerate\n",
    "\n",
    "When you want to iterate over a list and use both its elements and their indexes:"
   ],
   "cell_type": "markdown",
   "metadata": {}
  },
  {
   "cell_type": "code",
   "execution_count": null,
   "metadata": {},
   "outputs": [],
   "source": [
    "# not Pythonic\n",
    "for i in range(len(documents)):\n",
    "    document = documents[i]\n",
    "    do_something(i, document)\n",
    "\n",
    "# also not Pythonic\n",
    "i = 0\n",
    "for document in documents:\n",
    "    do_something(i, document)\n",
    "    i += 1\n",
    "\n",
    "# The Pythonic solution is enumerate , which produces tuples (index, element):\n",
    "for i, document in enumerate(documents):\n",
    "    do_something(i, document)\n",
    "\n",
    "# Similarly, if we just want the indexes:\n",
    "for i in range(len(documents)): do_something(i)     # not Pythonic\n",
    "for i, _ in enumerate(documents): do_something(i)   # Pythonic"
   ]
  },
  {
   "source": [
    "## randomness\n",
    "\n",
    "The random module actually produces pseudorandom (that is, deterministic) numbers based on an internal state that you can set with *random.seed* if you want to get reproducible result."
   ],
   "cell_type": "markdown",
   "metadata": {}
  },
  {
   "cell_type": "code",
   "execution_count": null,
   "metadata": {},
   "outputs": [],
   "source": [
    "import random\n",
    "\n",
    "random.seed(10)             # set the seed to 10\n",
    "print random.random()       # number between 0 and 1, 0.57140259469\n",
    "random.seed(10)             # reset the seed to 10\n",
    "print random.random()       # 0.57140259469 again\n",
    "\n",
    "# random.randrange , which takes either 1 or 2 arguments and \n",
    "# returns an element chosen randomly from the corresponding range()\n",
    "random.randrange(10)        # choose randomly from range(10) = [0, 1, ..., 9]\n",
    "random.randrange(3, 6)      # choose randomly from range(3, 6) = [3, 4, 5]\n",
    "\n",
    "\n",
    "# random.shuffle randomly reorders the elements of a list:\n",
    "up_to_ten = range(10)\n",
    "random.shuffle(up_to_ten)\n",
    "print up_to_ten             # [2, 5, 1, 9, 7, 3, 8, 6, 4, 0]\n",
    "\n",
    "\n",
    "# to randomly pick one element from a list you can use random.choice :\n",
    "my_best_friend = random.choice([\"Alice\", \"Bob\", \"Charlie\"])     # \"Bob\" for me\n",
    "\n",
    "\n",
    "# to choose a sample of elements without replacement (i.e., with no duplicates), use random.sample :\n",
    "lottery_numbers = range(60)\n",
    "winning_numbers = random.sample(lottery_numbers, 6)     # [16, 36, 10, 6, 25, 9]\n",
    "\n",
    "\n",
    "# to choose a sample of elements with replacement (i.e., allowing duplicates), \n",
    "# you can just make multiple calls to random.choice :\n",
    "four_with_replacement = [random.choice(range(10))\n",
    "                         for _ in range(4)]             # [9, 4, 4, 2]"
   ]
  },
  {
   "source": [
    "## zip and argument upack\n",
    "\n",
    "Often we will need to zip two or more lists together. `zip` transforms multiple lists into a single list of tuples of corresponding elements:"
   ],
   "cell_type": "markdown",
   "metadata": {}
  },
  {
   "cell_type": "code",
   "execution_count": null,
   "metadata": {},
   "outputs": [],
   "source": [
    "list1 = ['a', 'b', 'c']\n",
    "list2 = [1, 2, 3]\n",
    "zip(list1, list2)       # is [('a', 1), ('b', 2), ('c', 3)]\n",
    "# If the lists are different lengths, zip stops as soon as the first list ends.\n",
    "\n",
    "# You can also “unzip” a list using a strange trick:\n",
    "pairs = [('a', 1), ('b', 2), ('c', 3)]\n",
    "letters, numbers = zip(*pairs)\n",
    "# The asterisk performs argument unpacking, which uses the elements of pairs as individual arguments to zip . It ends up the same as if you’d called:\n",
    "zip(('a', 1), ('b', 2), ('c', 3))\n",
    "# which returns [('a','b','c'), ('1','2','3')] ."
   ]
  }
 ],
 "metadata": {
  "language_info": {
   "name": "python",
   "codemirror_mode": {
    "name": "ipython",
    "version": 3
   },
   "version": "3.8.5-final"
  },
  "orig_nbformat": 2,
  "file_extension": ".py",
  "mimetype": "text/x-python",
  "name": "python",
  "npconvert_exporter": "python",
  "pygments_lexer": "ipython3",
  "version": 3,
  "kernelspec": {
   "name": "Python 3.8.5 64-bit ('.venv': venv)",
   "display_name": "Python 3.8.5 64-bit ('.venv': venv)",
   "metadata": {
    "interpreter": {
     "hash": "dc6deececbf183c8613558516fc6e4182faf0badcaf931a5540c4f112efb8318"
    }
   }
  }
 },
 "nbformat": 4,
 "nbformat_minor": 2
}