{
 "metadata": {
  "language_info": {
   "codemirror_mode": {
    "name": "ipython",
    "version": 3
   },
   "file_extension": ".py",
   "mimetype": "text/x-python",
   "name": "python",
   "nbconvert_exporter": "python",
   "pygments_lexer": "ipython3",
   "version": "3.8.5-final"
  },
  "orig_nbformat": 2,
  "kernelspec": {
   "name": "Python 3.8.5 64-bit ('.venv': venv)",
   "display_name": "Python 3.8.5 64-bit ('.venv': venv)",
   "metadata": {
    "interpreter": {
     "hash": "dc6deececbf183c8613558516fc6e4182faf0badcaf931a5540c4f112efb8318"
    }
   }
  }
 },
 "nbformat": 4,
 "nbformat_minor": 2,
 "cells": [
  {
   "cell_type": "code",
   "execution_count": 42,
   "metadata": {},
   "outputs": [],
   "source": [
    "from ch22_recommender import cosine_similarity"
   ]
  },
  {
   "cell_type": "code",
   "execution_count": 43,
   "metadata": {},
   "outputs": [],
   "source": [
    "users_interests = [\n",
    "[\"Hadoop\", \"Big Data\", \"HBase\", \"Java\", \"Spark\", \"Storm\", \"Cassandra\"],\n",
    "[\"NoSQL\", \"MongoDB\", \"Cassandra\", \"HBase\", \"Postgres\"],\n",
    "[\"Python\", \"scikit-learn\", \"scipy\", \"numpy\", \"statsmodels\", \"pandas\"],\n",
    "[\"R\", \"Python\", \"statistics\", \"regression\", \"probability\"],\n",
    "[\"machine learning\", \"regression\", \"decision trees\", \"libsvm\"],\n",
    "[\"Python\", \"R\", \"Java\", \"C++\", \"Haskell\", \"programming languages\"],\n",
    "[\"statistics\", \"probability\", \"mathematics\", \"theory\"],\n",
    "[\"machine learning\", \"scikit-learn\", \"Mahout\", \"neural networks\"],\n",
    "[\"neural networks\", \"deep learning\", \"Big Data\", \"artificial intelligence\"],\n",
    "[\"Hadoop\", \"Java\", \"MapReduce\", \"Big Data\"],\n",
    "[\"statistics\", \"R\", \"statsmodels\"],\n",
    "[\"C++\", \"deep learning\", \"artificial intelligence\", \"probability\"],\n",
    "[\"pandas\", \"R\", \"Python\"],\n",
    "[\"databases\", \"HBase\", \"Postgres\", \"MySQL\", \"MongoDB\"],\n",
    "[\"libsvm\", \"regression\", \"support vector machines\"]\n",
    "]"
   ]
  },
  {
   "source": [
    "# Recommending What’s Popular\n",
    "\n",
    "One easy approach is to simply recommend what’s popular"
   ],
   "cell_type": "markdown",
   "metadata": {}
  },
  {
   "cell_type": "code",
   "execution_count": 44,
   "metadata": {},
   "outputs": [
    {
     "output_type": "stream",
     "name": "stdout",
     "text": [
      "Counter({'Python': 4, 'R': 4, 'Big Data': 3, 'HBase': 3, 'Java': 3, 'statistics': 3, 'regression': 3, 'probability': 3, 'Hadoop': 2, 'Cassandra': 2, 'MongoDB': 2, 'Postgres': 2, 'scikit-learn': 2, 'statsmodels': 2, 'pandas': 2, 'machine learning': 2, 'libsvm': 2, 'C++': 2, 'neural networks': 2, 'deep learning': 2, 'artificial intelligence': 2, 'Spark': 1, 'Storm': 1, 'NoSQL': 1, 'scipy': 1, 'numpy': 1, 'decision trees': 1, 'Haskell': 1, 'programming languages': 1, 'mathematics': 1, 'theory': 1, 'Mahout': 1, 'MapReduce': 1, 'databases': 1, 'MySQL': 1, 'support vector machines': 1})\nPython 4\nR 4\nBig Data 3\nHBase 3\nJava 3\nstatistics 3\n"
     ]
    }
   ],
   "source": [
    "from collections import Counter\n",
    "\n",
    "# initialize\n",
    "overall_ranking = Counter()\n",
    "\n",
    "# interate through list of lists\n",
    "for l in users_interests:\n",
    "    partial_ranking = Counter(l)\n",
    "    overall_ranking = overall_ranking + partial_ranking\n",
    "\n",
    "print(overall_ranking)\n",
    "\n",
    "# print the n most common subjects and their counts\n",
    "for key, value in overall_ranking.most_common(6):\n",
    "    print(key, value)\n",
    "    "
   ]
  },
  {
   "cell_type": "code",
   "execution_count": 45,
   "metadata": {},
   "outputs": [
    {
     "output_type": "stream",
     "name": "stdout",
     "text": [
      "User  1  likes:  ['NoSQL', 'MongoDB', 'Cassandra', 'HBase', 'Postgres']  and we will be recommending:  ['Hadoop', 'Big Data', 'Java', 'Spark', 'Storm']\nUser  3  likes:  ['R', 'Python', 'statistics', 'regression', 'probability']  and we will be recommending:  ['Hadoop', 'Big Data', 'HBase', 'Java', 'Spark']\n"
     ]
    }
   ],
   "source": [
    "def most_popular_new_interests(user_interests, max_results=5):\n",
    "    recommended_new_interests = [interest for interest in overall_ranking if interest not in user_interests]\n",
    "    recommended_new_interests = recommended_new_interests[:max_results]\n",
    "    return recommended_new_interests\n",
    "\n",
    "suggestions = most_popular_new_interests(users_interests[1], 5)\n",
    "print('User ', 1, ' likes: ', users_interests[1], ' and we will be recommending: ', suggestions)\n",
    "\n",
    "suggestions = most_popular_new_interests(users_interests[3], 5)\n",
    "print('User ', 3, ' likes: ', users_interests[3], ' and we will be recommending: ', suggestions)"
   ]
  },
  {
   "source": [
    "# User-Based Collaborative Filtering\n",
    "\n",
    "One way of taking a user’s interests into account is to look for users who are somehow similar to him, and then suggest the things that those users are interested in."
   ],
   "cell_type": "markdown",
   "metadata": {}
  },
  {
   "cell_type": "code",
   "execution_count": 55,
   "metadata": {},
   "outputs": [
    {
     "output_type": "stream",
     "name": "stdout",
     "text": [
      "[(9, 0.5669467095138409), (1, 0.3380617018914066), (8, 0.1889822365046136), (13, 0.1690308509457033), (5, 0.1543033499620919)]\n"
     ]
    }
   ],
   "source": [
    "from typing import Dict, List, Tuple\n",
    "\n",
    "# list of unique interests\n",
    "unique_interests = sorted(list(overall_ranking.keys()))\n",
    "#print(unique_interests)\n",
    "\n",
    "\n",
    "def make_user_interest_vector(user_interests):\n",
    "    \"\"\"given a list of interests, produce a vector whose ith element is 1\n",
    "    if unique_interests[i] is in the list, 0 otherwise\"\"\"\n",
    "    user_vector = [(1 if interest in user_interests else 0)for interest in unique_interests]\n",
    "    return user_vector\n",
    "\n",
    "user_vector = make_user_interest_vector(users_interests[1])\n",
    "#print(user_vector)\n",
    "\n",
    "\n",
    "user_interest_matrix = [make_user_interest_vector(user_interests) for user_interests in users_interests]\n",
    "\n",
    "user_similarities = [[cosine_similarity(interest_vector_i, interest_vector_j)\n",
    "                     for interest_vector_j in user_interest_matrix]\n",
    "                     for interest_vector_i in user_interest_matrix]\n",
    "\n",
    "#print(user_similarities)\n",
    "#print(type(user_similarities))\n",
    "\n",
    "def most_similar_users_to(user_id: int) -> List[Tuple[int, float]]:\n",
    "    pairs = [(other_user_id, similarity)                      # Find other\n",
    "             for other_user_id, similarity in                 # users with\n",
    "                enumerate(user_similarities[user_id])         # nonzero\n",
    "             if user_id != other_user_id and similarity > 0]  # similarity.\n",
    "\n",
    "    return sorted(pairs,                                      # Sort them\n",
    "                  key=lambda pair: pair[-1],                  # most similar\n",
    "                  reverse=True)                               # first.\n",
    "\n",
    "\n",
    "most_similar_to_zero = most_similar_users_to(0)\n",
    "print(most_similar_to_zero)\n",
    "user, score = most_similar_to_zero[0]\n",
    "assert user == 9\n",
    "assert 0.56 < score < 0.57\n",
    "user, score = most_similar_to_zero[1]\n",
    "assert user == 1\n",
    "assert 0.33 < score < 0.34"
   ]
  }
 ]
}