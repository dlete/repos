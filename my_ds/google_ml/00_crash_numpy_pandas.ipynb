{
 "metadata": {
  "language_info": {
   "codemirror_mode": {
    "name": "ipython",
    "version": 3
   },
   "file_extension": ".py",
   "mimetype": "text/x-python",
   "name": "python",
   "nbconvert_exporter": "python",
   "pygments_lexer": "ipython3",
   "version": "3.8.5-final"
  },
  "orig_nbformat": 2,
  "kernelspec": {
   "name": "Python 3.8.5 64-bit ('.venv': venv)",
   "display_name": "Python 3.8.5 64-bit ('.venv': venv)",
   "metadata": {
    "interpreter": {
     "hash": "dc6deececbf183c8613558516fc6e4182faf0badcaf931a5540c4f112efb8318"
    }
   }
  }
 },
 "nbformat": 4,
 "nbformat_minor": 2,
 "cells": [
  {
   "cell_type": "code",
   "execution_count": 2,
   "metadata": {},
   "outputs": [],
   "source": [
    "# imports, Python packages\n",
    "import numpy as np\n",
    "import pandas as pd"
   ]
  },
  {
   "source": [
    "## Numpy\n",
    "\n",
    "NumPy is a Python library for creating and manipulating **vectors** and **matrices**8."
   ],
   "cell_type": "markdown",
   "metadata": {}
  },
  {
   "source": [
    "### Populate arrays with specific numbers"
   ],
   "cell_type": "markdown",
   "metadata": {}
  },
  {
   "cell_type": "code",
   "execution_count": 5,
   "metadata": {
    "tags": []
   },
   "outputs": [
    {
     "output_type": "stream",
     "name": "stdout",
     "text": [
      "[1.2 2.4 3.5 4.7 6.1 7.2 8.3 9.5]\n[[ 6  5]\n [11  7]\n [ 4  8]]\n[0. 0. 0.]\n[[0. 0. 0. 0. 0.]\n [0. 0. 0. 0. 0.]\n [0. 0. 0. 0. 0.]]\n[1. 1.]\n[[1. 1. 1. 1.]\n [1. 1. 1. 1.]]\n"
     ]
    }
   ],
   "source": [
    "# create an 8-element vector\n",
    "one_dimensional_array = np.array([1.2, 2.4, 3.5, 4.7, 6.1, 7.2, 8.3, 9.5])\n",
    "print(one_dimensional_array)\n",
    "\n",
    "# create a 3x2 matrix\n",
    "two_dimensional_array = np.array([[6, 5], [11, 7], [4, 8]])\n",
    "print(two_dimensional_array)\n",
    "\n",
    "# all zeroes vector\n",
    "all_zeroes_vector = np.zeros(3)\n",
    "print(all_zeroes_vector)\n",
    "\n",
    "# all zeroes matrix\n",
    "all_zeroes_matrix = np.zeros((3, 5))\n",
    "print(all_zeroes_matrix)\n",
    "\n",
    "# all ones vector\n",
    "all_ones_vector = np.ones(2)\n",
    "print(all_ones_vector)\n",
    "\n",
    "# all onex matrix\n",
    "all_ones_matrix = np.ones((2, 4))\n",
    "print(all_ones_matrix)"
   ]
  },
  {
   "source": [
    "### Populate arrays with sequences of numbers"
   ],
   "cell_type": "markdown",
   "metadata": {}
  },
  {
   "cell_type": "code",
   "execution_count": null,
   "metadata": {},
   "outputs": [],
   "source": [
    "# includes the lower bound (5) but not the upper bound (12)\n",
    "sequence_of_integers = np.arange(5, 12)\n",
    "print(sequence_of_integers)"
   ]
  },
  {
   "source": [
    "### Populate arrays with random numbers"
   ],
   "cell_type": "markdown",
   "metadata": {}
  },
  {
   "cell_type": "code",
   "execution_count": 28,
   "metadata": {},
   "outputs": [
    {
     "output_type": "stream",
     "name": "stdout",
     "text": [
      "[96 97 72 91 50 99]\n[[60 60]\n [89 76]\n [68 68]\n [94 69]\n [55 73]\n [56 92]]\n[0.6344497  0.66448409 0.72847084 0.74583038 0.8198336  0.91088218]\n[0.48820749 0.19581252 0.44706966 0.80381713 0.94261708 0.77724427]\n"
     ]
    }
   ],
   "source": [
    "# vector, populate a 6-element vector with random integers between 50 and 100\n",
    "# the highest generated integer np.random.randint is one less than the high argument.\n",
    "random_integers_between_50_and_100 = np.random.randint(low=50, high=101, size=(6))\n",
    "print(random_integers_between_50_and_100)\n",
    "\n",
    "# matrix, populate a 6 rows x 2 columns element matrix with random integers between 50 and 100\n",
    "# the highest generated integer np.random.randint is one less than the high argument.\n",
    "random_integers_between_50_and_100 = np.random.randint(low=50, high=101, size=((6, 2)))\n",
    "print(random_integers_between_50_and_100)\n",
    "\n",
    "# create random floating-point values between 0.0 and 1.0\n",
    "random_floats_between_0_and_1 = np.random.random([6])           # NumPy (version 1.15)\n",
    "print(random_floats_between_0_and_1) \n",
    "random_floats_between_0_and_1 = np.random.random_sample([6])    # NumPy (version 1.17)\n",
    "print(random_floats_between_0_and_1) "
   ]
  },
  {
   "source": [
    "### Mathematical Operations on NumPy Operands\n",
    "\n",
    "If you want to add or subtract two vectors or matrices, linear algebra requires that the two operands have the same dimensions. Furthermore, if you want to multiply two vectors or matrices, linear algebra imposes strict rules on the dimensional compatibility of operands. Fortunately, NumPy uses a trick called broadcasting to virtually expand the smaller operand to dimensions compatible for linear algebra. For example, the following operation uses broadcasting to add 2.0 to the value of every item in the vector created in the previous code cell:"
   ],
   "cell_type": "markdown",
   "metadata": {}
  },
  {
   "cell_type": "code",
   "execution_count": 11,
   "metadata": {},
   "outputs": [
    {
     "output_type": "stream",
     "name": "stdout",
     "text": [
      "[2.29373861 2.41670117 2.31839224 2.29266067 2.29389992 2.01538145]\n[[171 297]\n [153 183]\n [249 264]\n [192 174]\n [213 204]\n [294 183]]\n"
     ]
    }
   ],
   "source": [
    "# use broadcasting to add 2.0 to the value of every item in the vector \n",
    "random_floats_between_2_and_3 = random_floats_between_0_and_1 + 2.0\n",
    "print(random_floats_between_2_and_3)\n",
    "\n",
    "# relies on broadcasting to multiply each cell in a vector by 3\n",
    "random_integers_between_150_and_300 = random_integers_between_50_and_100 * 3\n",
    "print(random_integers_between_150_and_300)"
   ]
  },
  {
   "source": [
    "## Task 1\n",
    "\n",
    "Your goal is to create a simple dataset consisting of a single feature and a label as follows:\n",
    "\n",
    "1. Assign a sequence of integers from 6 to 20 (inclusive) to a NumPy array named feature.\n",
    "2. Assign 15 values to a NumPy array named label such that:\n",
    "\n",
    "`label = (3)(feature) + 4`"
   ],
   "cell_type": "markdown",
   "metadata": {}
  },
  {
   "cell_type": "code",
   "execution_count": 16,
   "metadata": {},
   "outputs": [
    {
     "output_type": "stream",
     "name": "stdout",
     "text": [
      "feature is: [ 6  7  8  9 10 11 12 13 14 15 16 17 18 19 20]\nlabel is: [22 25 28 31 34 37 40 43 46 49 52 55 58 61 64]\n"
     ]
    }
   ],
   "source": [
    "feature = np.arange(6, 21)\n",
    "print('feature is:', feature)\n",
    "\n",
    "label = (3 * feature) + 4\n",
    "print('label is:', label)"
   ]
  },
  {
   "source": [
    "### Task 2: Add Some Noise to the Dataset\n",
    "\n",
    "To make your dataset a little more realistic, insert a little random noise into each element of the label array you already created. To be more precise, modify each value assigned to label by adding a different random floating-point value between -2 and +2.\n",
    "\n",
    "Don't rely on broadcasting. Instead, create a noise array having the same dimension as label."
   ],
   "cell_type": "markdown",
   "metadata": {}
  },
  {
   "cell_type": "code",
   "execution_count": 29,
   "metadata": {},
   "outputs": [
    {
     "output_type": "stream",
     "name": "stdout",
     "text": [
      "[-1.62534518  1.04133897 -1.67653797  1.32551858 -0.73939619  1.82712969\n  0.8616976  -0.56922894  1.32027112 -0.64536759  1.3326531  -1.77424582\n  1.722513   -0.08886094 -0.51412373]\nlabel + noise is: [20.37465482 26.04133897 26.32346203 32.32551858 33.26060381 38.82712969\n 40.8616976  42.43077106 47.32027112 48.35463241 53.3326531  53.22575418\n 59.722513   60.91113906 63.48587627]\n"
     ]
    }
   ],
   "source": [
    "# https://docs.scipy.org/doc/numpy-1.15.0/reference/generated/numpy.random.random.html\n",
    "noise = (2 -(-2)) * np.random.random_sample(label.shape) + (-2)\n",
    "print(noise)\n",
    "\n",
    "noisy_label = label + noise\n",
    "print('label + noise is:', noisy_label)\n"
   ]
  },
  {
   "source": [
    "## Pandas \n",
    "\n",
    "A DataFrame is similar to an in-memory spreadsheet. Like a spreadsheet:\n",
    "\n",
    "* A DataFrame stores data in cells.\n",
    "* A DataFrame has named columns (usually) and numbered rows.\n"
   ],
   "cell_type": "markdown",
   "metadata": {}
  },
  {
   "source": [
    "### Creating a DataFrame"
   ],
   "cell_type": "markdown",
   "metadata": {}
  },
  {
   "cell_type": "code",
   "execution_count": 3,
   "metadata": {},
   "outputs": [
    {
     "output_type": "stream",
     "name": "stdout",
     "text": [
      "   temperature  activity\n0            0         3\n1           10         7\n2           20         9\n3           30        14\n4           40        15\n"
     ]
    }
   ],
   "source": [
    "# Create and populate a 5x2 NumPy array.\n",
    "my_data = np.array([[0, 3], [10, 7], [20, 9], [30, 14], [40, 15]])\n",
    "\n",
    "# Create a Python list that holds the names of the two columns.\n",
    "my_column_names = ['temperature', 'activity']\n",
    "\n",
    "# Create a DataFrame.\n",
    "my_dataframe = pd.DataFrame(data=my_data, columns=my_column_names)\n",
    "\n",
    "# Print the entire DataFrame\n",
    "print(my_dataframe)"
   ]
  },
  {
   "source": [
    "### Adding a new column to a DataFrame\n",
    "\n",
    "You may add a new column to an existing pandas DataFrame just by assigning values to a new column name. For example, the following code creates a third column named adjusted in my_dataframe:"
   ],
   "cell_type": "markdown",
   "metadata": {}
  },
  {
   "cell_type": "code",
   "execution_count": 4,
   "metadata": {},
   "outputs": [
    {
     "output_type": "stream",
     "name": "stdout",
     "text": [
      "   temperature  activity  adjusted\n0            0         3         5\n1           10         7         9\n2           20         9        11\n3           30        14        16\n4           40        15        17\n"
     ]
    }
   ],
   "source": [
    "# Create a new column named adjusted.\n",
    "my_dataframe[\"adjusted\"] = my_dataframe[\"activity\"] + 2\n",
    "\n",
    "# Print the entire DataFrame\n",
    "print(my_dataframe)"
   ]
  },
  {
   "source": [
    "### Specifying a subset of a DataFrame\n",
    "\n",
    "Pandas provide multiples ways to isolate specific rows, columns, slices or cells in a DataFrame"
   ],
   "cell_type": "markdown",
   "metadata": {}
  },
  {
   "cell_type": "code",
   "execution_count": 5,
   "metadata": {},
   "outputs": [
    {
     "output_type": "stream",
     "name": "stdout",
     "text": [
      "Rows #0, #1, and #2:\n   temperature  activity  adjusted\n0            0         3         5\n1           10         7         9\n2           20         9        11 \n\nRow #2:\n   temperature  activity  adjusted\n2           20         9        11 \n\nRows #1, #2, and #3:\n   temperature  activity  adjusted\n1           10         7         9\n2           20         9        11\n3           30        14        16 \n\nColumn 'temperature':\n0     0\n1    10\n2    20\n3    30\n4    40\nName: temperature, dtype: int64\n"
     ]
    }
   ],
   "source": [
    "print(\"Rows #0, #1, and #2:\")\n",
    "print(my_dataframe.head(3), '\\n')\n",
    "\n",
    "print(\"Row #2:\")\n",
    "print(my_dataframe.iloc[[2]], '\\n')\n",
    "\n",
    "print(\"Rows #1, #2, and #3:\")\n",
    "print(my_dataframe[1:4], '\\n')\n",
    "\n",
    "print(\"Column 'temperature':\")\n",
    "print(my_dataframe['temperature'])"
   ]
  },
  {
   "source": [
    "### Task 1: Create a DataFrame\n",
    "\n",
    "Do the following:\n",
    "\n",
    "1. Create an 3x4 (3 rows x 4 columns) pandas DataFrame in which the columns are named Eleanor, Chidi, Tahani, and Jason. Populate each of the 12 cells in the DataFrame with a random integer between 0 and 100, inclusive.\n",
    "\n",
    "2. Output the following:\n",
    "* the entire DataFrame\n",
    "* the value in the cell of row #1 of the Eleanor column\n",
    "\n",
    "3. Create a fifth column named Janet, which is populated with the row-by-row sums of Tahani and Jason.\n",
    "\n",
    "To complete this task, it helps to know the NumPy basics covered in the NumPy UltraQuick Tutorial."
   ],
   "cell_type": "markdown",
   "metadata": {}
  },
  {
   "cell_type": "code",
   "execution_count": 23,
   "metadata": {},
   "outputs": [
    {
     "output_type": "stream",
     "name": "stdout",
     "text": [
      "   Eleanor  Chidi  Tahani  Jason\n0       44     40      39     47\n1        4     82      80     77\n2       27     23      20     15\nThe value in the cell of row #1 of the Eleanor column is 1    4\nName: Eleanor, dtype: int64\nThe value in the cell of row #1 of the Eleanor column is 4\nmy_dataframe with a fifth column named Janet, which is populated with the row-by-row sums of Tahani and Jason\n   Eleanor  Chidi  Tahani  Jason  Janet\n0       44     40      39     47     86\n1        4     82      80     77    157\n2       27     23      20     15     35\n"
     ]
    }
   ],
   "source": [
    "# Create and populate a 3x4 NumPy array.\n",
    "my_data = np.random.randint(low=0, high=101, size=((3, 4)))\n",
    "\n",
    "# Create a Python list that holds the names of the columns.\n",
    "my_column_names = ['Eleanor', 'Chidi', 'Tahani', 'Jason']\n",
    "\n",
    "# Create a DataFrame.\n",
    "my_dataframe = pd.DataFrame(data=my_data, columns=my_column_names)\n",
    "\n",
    "# Print the entire DataFrame\n",
    "print(my_dataframe)\n",
    "\n",
    "\n",
    "# Print the value in the cell of row #1 of the Eleanor column\n",
    "#print(\"Row #1:\")\n",
    "row_1 = my_dataframe.iloc[[1]] \n",
    "#print(row_1)\n",
    "#print(\"Column 'Eleanor:\")\n",
    "print('The value in the cell of row #1 of the Eleanor column is', row_1['Eleanor'])\n",
    "\n",
    "# way simpler my_dataframe[column][row]\n",
    "print('The value in the cell of row #1 of the Eleanor column is', my_dataframe['Eleanor'][1])\n",
    "\n",
    "\n",
    "my_dataframe['Janet'] = my_dataframe['Tahani'] + my_dataframe['Jason']\n",
    "print('my_dataframe with a fifth column named Janet, which is populated with the row-by-row sums of Tahani and Jason')\n",
    "print(my_dataframe)"
   ]
  }
 ]
}