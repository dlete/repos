{
 "cells": [
  {
   "cell_type": "markdown",
   "metadata": {},
   "source": [
    "Notes from [Introduction to Qiskit](https://qiskit.org/documentation/intro_tutorial1.htm)\n",
    "\n",
    "When using Qiskit a user workflow nominally consists of following four high-level steps:\n",
    "\n",
    "* Build: Design a quantum circuit(s) that represents the problem you are considering.\n",
    "* Compile: Compile circuits for a specific quantum service, e.g. a quantum system or classical simulator.\n",
    "* Run: Run the compiled circuits on the specified quantum service(s). These services can be cloud-based or local.\n",
    "* Analyze: Compute summary statistics and visualize the results of the experiments.\n"
   ]
  },
  {
   "cell_type": "code",
   "execution_count": 4,
   "metadata": {},
   "outputs": [
    {
     "name": "stdout",
     "output_type": "stream",
     "text": [
      "\n",
      "Total count for 00 and 11 are: {'00': 495, '11': 505}\n"
     ]
    },
    {
     "data": {
      "image/svg+xml": "<?xml version=\"1.0\" encoding=\"utf-8\" standalone=\"no\"?>\n<!DOCTYPE svg PUBLIC \"-//W3C//DTD SVG 1.1//EN\"\n  \"http://www.w3.org/Graphics/SVG/1.1/DTD/svg11.dtd\">\n<svg xmlns:xlink=\"http://www.w3.org/1999/xlink\" width=\"266.384049pt\" height=\"172.003598pt\" viewBox=\"0 0 266.384049 172.003598\" xmlns=\"http://www.w3.org/2000/svg\" version=\"1.1\">\n <metadata>\n  <rdf:RDF xmlns:dc=\"http://purl.org/dc/elements/1.1/\" xmlns:cc=\"http://creativecommons.org/ns#\" xmlns:rdf=\"http://www.w3.org/1999/02/22-rdf-syntax-ns#\">\n   <cc:Work>\n    <dc:type rdf:resource=\"http://purl.org/dc/dcmitype/StillImage\"/>\n    <dc:date>2022-11-10T17:17:56.105492</dc:date>\n    <dc:format>image/svg+xml</dc:format>\n    <dc:creator>\n     <cc:Agent>\n      <dc:title>Matplotlib v3.6.2, https://matplotlib.org/</dc:title>\n     </cc:Agent>\n    </dc:creator>\n   </cc:Work>\n  </rdf:RDF>\n </metadata>\n <defs>\n  <style type=\"text/css\">*{stroke-linejoin: round; stroke-linecap: butt}</style>\n </defs>\n <g id=\"figure_1\">\n  <g id=\"patch_1\">\n   <path d=\"M 0 172.003598 \nL 266.384049 172.003598 \nL 266.384049 0 \nL 0 0 \nz\n\" style=\"fill: #ffffff\"/>\n  </g>\n  <g id=\"axes_1\">\n   <g id=\"patch_2\">\n    <path d=\"M 176.21039 126.445663 \nL 188.26243 126.445663 \nL 182.23641 135.137038 \nz\n\" clip-path=\"url(#p98302c5cdb)\" style=\"fill: #778899\"/>\n   </g>\n   <g id=\"patch_3\">\n    <path d=\"M 222.564389 126.445663 \nL 234.616429 126.445663 \nL 228.590409 135.137038 \nz\n\" clip-path=\"url(#p98302c5cdb)\" style=\"fill: #778899\"/>\n   </g>\n   <g id=\"line2d_1\">\n    <path d=\"M 64.497252 44.2832 \nL 254.548649 44.2832 \n\" clip-path=\"url(#p98302c5cdb)\" style=\"fill: none; stroke: #000000; stroke-width: 2; stroke-linecap: square\"/>\n   </g>\n   <g id=\"line2d_2\">\n    <path d=\"M 64.497252 90.637199 \nL 254.548649 90.637199 \n\" clip-path=\"url(#p98302c5cdb)\" style=\"fill: none; stroke: #000000; stroke-width: 2; stroke-linecap: square\"/>\n   </g>\n   <g id=\"line2d_3\">\n    <path d=\"M 64.497252 135.484693 \nL 254.548649 135.484693 \n\" clip-path=\"url(#p98302c5cdb)\" style=\"fill: none; stroke: #778899; stroke-width: 2; stroke-linecap: square\"/>\n   </g>\n   <g id=\"line2d_4\">\n    <path d=\"M 64.497252 138.497703 \nL 254.548649 138.497703 \n\" clip-path=\"url(#p98302c5cdb)\" style=\"fill: none; stroke: #778899; stroke-width: 2; stroke-linecap: square\"/>\n   </g>\n   <g id=\"line2d_5\">\n    <path d=\"M 73.768051 141.626598 \nL 78.403451 132.355798 \n\" clip-path=\"url(#p98302c5cdb)\" style=\"fill: none; stroke: #778899; stroke-width: 1.5; stroke-linecap: square\"/>\n   </g>\n   <g id=\"line2d_6\">\n    <path d=\"M 135.882411 90.637199 \nL 135.882411 44.2832 \n\" clip-path=\"url(#p98302c5cdb)\" style=\"fill: none; stroke: #6fa4ff; stroke-width: 2; stroke-linecap: square\"/>\n   </g>\n   <g id=\"line2d_7\">\n    <path d=\"M 183.742915 44.2832 \nL 183.742915 126.445663 \n\" clip-path=\"url(#p98302c5cdb)\" style=\"fill: none; stroke: #778899; stroke-width: 2; stroke-linecap: square\"/>\n   </g>\n   <g id=\"line2d_8\">\n    <path d=\"M 180.729905 44.2832 \nL 180.729905 126.445663 \n\" clip-path=\"url(#p98302c5cdb)\" style=\"fill: none; stroke: #778899; stroke-width: 2; stroke-linecap: square\"/>\n   </g>\n   <g id=\"line2d_9\">\n    <path d=\"M 230.096914 90.637199 \nL 230.096914 126.445663 \n\" clip-path=\"url(#p98302c5cdb)\" style=\"fill: none; stroke: #778899; stroke-width: 2; stroke-linecap: square\"/>\n   </g>\n   <g id=\"line2d_10\">\n    <path d=\"M 227.083904 90.637199 \nL 227.083904 126.445663 \n\" clip-path=\"url(#p98302c5cdb)\" style=\"fill: none; stroke: #778899; stroke-width: 2; stroke-linecap: square\"/>\n   </g>\n   <g id=\"patch_4\">\n    <path d=\"M 74.463361 59.348249 \nL 104.593461 59.348249 \nL 104.593461 29.21815 \nL 74.463361 29.21815 \nz\n\" clip-path=\"url(#p98302c5cdb)\" style=\"fill: #6fa4ff; stroke: #6fa4ff; stroke-width: 1.5; stroke-linejoin: miter\"/>\n   </g>\n   <g id=\"patch_5\">\n    <path d=\"M 135.882411 48.802714 \nC 137.081 48.802714 138.23066 48.32651 139.07819 47.478979 \nC 139.925721 46.631448 140.401926 45.481789 140.401926 44.2832 \nC 140.401926 43.08461 139.925721 41.934951 139.07819 41.08742 \nC 138.23066 40.239889 137.081 39.763685 135.882411 39.763685 \nC 134.683821 39.763685 133.534162 40.239889 132.686631 41.08742 \nC 131.8391 41.934951 131.362896 43.08461 131.362896 44.2832 \nC 131.362896 45.481789 131.8391 46.631448 132.686631 47.478979 \nC 133.534162 48.32651 134.683821 48.802714 135.882411 48.802714 \nz\n\" clip-path=\"url(#p98302c5cdb)\" style=\"fill: #6fa4ff; stroke: #6fa4ff; stroke-width: 1.5; stroke-linejoin: miter\"/>\n   </g>\n   <g id=\"patch_6\">\n    <path d=\"M 135.882411 101.182734 \nC 138.679119 101.182734 141.361658 100.07159 143.33923 98.094018 \nC 145.316801 96.116447 146.427945 93.433907 146.427945 90.637199 \nC 146.427945 87.84049 145.316801 85.157951 143.33923 83.18038 \nC 141.361658 81.202808 138.679119 80.091664 135.882411 80.091664 \nC 133.085702 80.091664 130.403163 81.202808 128.425591 83.18038 \nC 126.44802 85.157951 125.336876 87.84049 125.336876 90.637199 \nC 125.336876 93.433907 126.44802 96.116447 128.425591 98.094018 \nC 130.403163 100.07159 133.085702 101.182734 135.882411 101.182734 \nz\n\" clip-path=\"url(#p98302c5cdb)\" style=\"fill: #6fa4ff; stroke: #6fa4ff; stroke-width: 2; stroke-linejoin: miter\"/>\n   </g>\n   <g id=\"patch_7\">\n    <path d=\"M 167.17136 59.348249 \nL 197.30146 59.348249 \nL 197.30146 29.21815 \nL 167.17136 29.21815 \nz\n\" clip-path=\"url(#p98302c5cdb)\" style=\"stroke: #000000; stroke-width: 1.5; stroke-linejoin: miter\"/>\n   </g>\n   <g id=\"patch_8\">\n    <path d=\"M 192.781945 48.802714 \nC 192.781945 46.006937 191.670142 43.322808 189.693229 41.345895 \nC 187.716316 39.368982 185.032187 38.25718 182.23641 38.25718 \nC 179.440633 38.25718 176.756504 39.368982 174.779591 41.345895 \nC 172.802678 43.322808 171.690875 46.006937 171.690875 48.802714 \n\" clip-path=\"url(#p98302c5cdb)\" style=\"fill: none; stroke: #ffffff; stroke-width: 2; stroke-linejoin: miter\"/>\n   </g>\n   <g id=\"line2d_11\">\n    <path d=\"M 182.23641 48.802714 \nL 192.781945 38.25718 \n\" clip-path=\"url(#p98302c5cdb)\" style=\"fill: none; stroke: #ffffff; stroke-width: 2; stroke-linecap: square\"/>\n   </g>\n   <g id=\"patch_9\">\n    <path d=\"M 213.52536 105.702249 \nL 243.655459 105.702249 \nL 243.655459 75.572149 \nL 213.52536 75.572149 \nz\n\" clip-path=\"url(#p98302c5cdb)\" style=\"stroke: #000000; stroke-width: 1.5; stroke-linejoin: miter\"/>\n   </g>\n   <g id=\"patch_10\">\n    <path d=\"M 239.135944 95.156714 \nC 239.135944 92.360937 238.024142 89.676808 236.047229 87.699895 \nC 234.070316 85.722982 231.386186 84.611179 228.590409 84.611179 \nC 225.794632 84.611179 223.110503 85.722982 221.13359 87.699895 \nC 219.156677 89.676808 218.044875 92.360937 218.044875 95.156714 \n\" clip-path=\"url(#p98302c5cdb)\" style=\"fill: none; stroke: #ffffff; stroke-width: 2; stroke-linejoin: miter\"/>\n   </g>\n   <g id=\"line2d_12\">\n    <path d=\"M 228.590409 95.156714 \nL 239.135944 84.611179 \n\" clip-path=\"url(#p98302c5cdb)\" style=\"fill: none; stroke: #ffffff; stroke-width: 2; stroke-linecap: square\"/>\n   </g>\n   <g id=\"text_1\">\n    <g clip-path=\"url(#p98302c5cdb)\">\n     <!-- ${q}_{0}$ -->\n     <g transform=\"translate(37.188952 48.734176) scale(0.1625 -0.1625)\">\n      <defs>\n       <path id=\"DejaVuSans-Oblique-71\" d=\"M 2669 525 \nQ 2438 222 2123 65 \nQ 1809 -91 1428 -91 \nQ 897 -91 595 267 \nQ 294 625 294 1253 \nQ 294 1759 480 2231 \nQ 666 2703 1013 3078 \nQ 1238 3322 1530 3453 \nQ 1822 3584 2144 3584 \nQ 2531 3584 2781 3431 \nQ 3031 3278 3144 2969 \nL 3244 3494 \nL 3822 3494 \nL 2888 -1319 \nL 2309 -1319 \nL 2669 525 \nz\nM 891 1338 \nQ 891 875 1084 633 \nQ 1278 391 1644 391 \nQ 2188 391 2572 911 \nQ 2956 1431 2956 2175 \nQ 2956 2625 2757 2864 \nQ 2559 3103 2188 3103 \nQ 1916 3103 1684 2976 \nQ 1453 2850 1281 2606 \nQ 1100 2350 995 2006 \nQ 891 1663 891 1338 \nz\n\" transform=\"scale(0.015625)\"/>\n       <path id=\"DejaVuSans-30\" d=\"M 2034 4250 \nQ 1547 4250 1301 3770 \nQ 1056 3291 1056 2328 \nQ 1056 1369 1301 889 \nQ 1547 409 2034 409 \nQ 2525 409 2770 889 \nQ 3016 1369 3016 2328 \nQ 3016 3291 2770 3770 \nQ 2525 4250 2034 4250 \nz\nM 2034 4750 \nQ 2819 4750 3233 4129 \nQ 3647 3509 3647 2328 \nQ 3647 1150 3233 529 \nQ 2819 -91 2034 -91 \nQ 1250 -91 836 529 \nQ 422 1150 422 2328 \nQ 422 3509 836 4129 \nQ 1250 4750 2034 4750 \nz\n\" transform=\"scale(0.015625)\"/>\n      </defs>\n      <use xlink:href=\"#DejaVuSans-Oblique-71\"/>\n      <use xlink:href=\"#DejaVuSans-30\" transform=\"translate(63.476562 -16.40625) scale(0.7)\"/>\n     </g>\n    </g>\n   </g>\n   <g id=\"text_2\">\n    <g clip-path=\"url(#p98302c5cdb)\">\n     <!-- ${q}_{1}$ -->\n     <g transform=\"translate(37.188952 95.088175) scale(0.1625 -0.1625)\">\n      <defs>\n       <path id=\"DejaVuSans-31\" d=\"M 794 531 \nL 1825 531 \nL 1825 4091 \nL 703 3866 \nL 703 4441 \nL 1819 4666 \nL 2450 4666 \nL 2450 531 \nL 3481 531 \nL 3481 0 \nL 794 0 \nL 794 531 \nz\n\" transform=\"scale(0.015625)\"/>\n      </defs>\n      <use xlink:href=\"#DejaVuSans-Oblique-71\"/>\n      <use xlink:href=\"#DejaVuSans-31\" transform=\"translate(63.476562 -16.40625) scale(0.7)\"/>\n     </g>\n    </g>\n   </g>\n   <g id=\"text_3\">\n    <g clip-path=\"url(#p98302c5cdb)\">\n     <!-- 2 -->\n     <g transform=\"translate(69.132651 130.192923) scale(0.104 -0.104)\">\n      <defs>\n       <path id=\"DejaVuSans-32\" d=\"M 1228 531 \nL 3431 531 \nL 3431 0 \nL 469 0 \nL 469 531 \nQ 828 903 1448 1529 \nQ 2069 2156 2228 2338 \nQ 2531 2678 2651 2914 \nQ 2772 3150 2772 3378 \nQ 2772 3750 2511 3984 \nQ 2250 4219 1831 4219 \nQ 1534 4219 1204 4116 \nQ 875 4013 500 3803 \nL 500 4441 \nQ 881 4594 1212 4672 \nQ 1544 4750 1819 4750 \nQ 2544 4750 2975 4387 \nQ 3406 4025 3406 3419 \nQ 3406 3131 3298 2873 \nQ 3191 2616 2906 2266 \nQ 2828 2175 2409 1742 \nQ 1991 1309 1228 531 \nz\n\" transform=\"scale(0.015625)\"/>\n      </defs>\n      <use xlink:href=\"#DejaVuSans-32\"/>\n     </g>\n    </g>\n   </g>\n   <g id=\"text_4\">\n    <g clip-path=\"url(#p98302c5cdb)\">\n     <!-- c -->\n     <g transform=\"translate(46.291491 141.475183) scale(0.1625 -0.1625)\">\n      <defs>\n       <path id=\"DejaVuSans-63\" d=\"M 3122 3366 \nL 3122 2828 \nQ 2878 2963 2633 3030 \nQ 2388 3097 2138 3097 \nQ 1578 3097 1268 2742 \nQ 959 2388 959 1747 \nQ 959 1106 1268 751 \nQ 1578 397 2138 397 \nQ 2388 397 2633 464 \nQ 2878 531 3122 666 \nL 3122 134 \nQ 2881 22 2623 -34 \nQ 2366 -91 2075 -91 \nQ 1284 -91 818 406 \nQ 353 903 353 1747 \nQ 353 2603 823 3093 \nQ 1294 3584 2113 3584 \nQ 2378 3584 2631 3529 \nQ 2884 3475 3122 3366 \nz\n\" transform=\"scale(0.015625)\"/>\n      </defs>\n      <use xlink:href=\"#DejaVuSans-63\"/>\n     </g>\n    </g>\n   </g>\n   <g id=\"text_5\">\n    <g clip-path=\"url(#p98302c5cdb)\">\n     <!-- H -->\n     <g transform=\"translate(84.640208 47.870387) scale(0.13 -0.13)\">\n      <defs>\n       <path id=\"DejaVuSans-48\" d=\"M 628 4666 \nL 1259 4666 \nL 1259 2753 \nL 3553 2753 \nL 3553 4666 \nL 4184 4666 \nL 4184 0 \nL 3553 0 \nL 3553 2222 \nL 1259 2222 \nL 1259 0 \nL 628 0 \nL 628 4666 \nz\n\" transform=\"scale(0.015625)\"/>\n      </defs>\n      <use xlink:href=\"#DejaVuSans-48\"/>\n     </g>\n    </g>\n   </g>\n   <g id=\"line2d_13\">\n    <path d=\"M 135.882411 96.663219 \nL 135.882411 84.611179 \n\" clip-path=\"url(#p98302c5cdb)\" style=\"fill: none; stroke: #ffffff; stroke-width: 2; stroke-linecap: square\"/>\n   </g>\n   <g id=\"line2d_14\">\n    <path d=\"M 129.856391 90.637199 \nL 141.908431 90.637199 \n\" clip-path=\"url(#p98302c5cdb)\" style=\"fill: none; stroke: #ffffff; stroke-width: 2; stroke-linecap: square\"/>\n   </g>\n   <g id=\"text_6\">\n    <g clip-path=\"url(#p98302c5cdb)\">\n     <!-- 0 -->\n     <g transform=\"translate(193.82491 130.192923) scale(0.104 -0.104)\">\n      <use xlink:href=\"#DejaVuSans-30\"/>\n     </g>\n    </g>\n   </g>\n   <g id=\"text_7\">\n    <g clip-path=\"url(#p98302c5cdb)\">\n     <!-- 1 -->\n     <g transform=\"translate(240.178909 130.192923) scale(0.104 -0.104)\">\n      <use xlink:href=\"#DejaVuSans-31\"/>\n     </g>\n    </g>\n   </g>\n  </g>\n </g>\n <defs>\n  <clipPath id=\"p98302c5cdb\">\n   <rect x=\"7.2\" y=\"7.2\" width=\"251.984049\" height=\"157.603598\"/>\n  </clipPath>\n </defs>\n</svg>\n",
      "text/plain": [
       "<Figure size 454.517x284.278 with 1 Axes>"
      ]
     },
     "execution_count": 4,
     "metadata": {},
     "output_type": "execute_result"
    }
   ],
   "source": [
    "# imports, Python packages\n",
    "import numpy as np\n",
    "#from qiskit.providers.aer import QasmSimulator\n",
    "# https://quantum-computing.ibm.com/lab/docs/iql/high-performance-simulators\n",
    "# https://lab.quantum-computing.ibm.com/user/6070803ad6cf8633b5e8533e/lab/tree/qiskit-tutorials/qiskit/simulators/1_aer_provider.ipynb\n",
    "from qiskit import Aer, QuantumCircuit, transpile\n",
    "from qiskit.visualization import plot_histogram\n",
    "\n",
    "##########\n",
    "# BUILD\n",
    "##########\n",
    "# Use Aer's qasm_simulator\n",
    "#simulator = QasmSimulator()\n",
    "# https://quantum-computing.ibm.com/lab/docs/iql/high-performance-simulators\n",
    "# https://lab.quantum-computing.ibm.com/user/6070803ad6cf8633b5e8533e/lab/tree/qiskit-tutorials/qiskit/simulators/1_aer_provider.ipynb\n",
    "simulator = Aer.get_backend('qasm_simulator')\n",
    "#simulator = Aer.get_backend('aer_simulator')\n",
    "\n",
    "# Create a Quantum Circuit acting on the q register\n",
    "circuit = QuantumCircuit(2, 2)\n",
    "\n",
    "# Add a H gate on qubit 0\n",
    "circuit.h(0)\n",
    "\n",
    "# Add a CX (CNOT) gate on control qubit 0 and target qubit 1\n",
    "circuit.cx(0, 1)\n",
    "\n",
    "# Map the quantum measurement to the classical bits\n",
    "circuit.measure([0,1], [0,1])\n",
    "\n",
    "##########\n",
    "# COMPILE \n",
    "##########\n",
    "# compile the circuit down to low-level QASM instructions\n",
    "# supported by the backend (not needed for simple circuits)\n",
    "compiled_circuit = transpile(circuit, simulator)\n",
    "\n",
    "##########\n",
    "# RUN/EXECUTE \n",
    "##########\n",
    "# Execute the circuit on the qasm simulator\n",
    "job = simulator.run(compiled_circuit, shots=1000)\n",
    "\n",
    "# Grab results from the job\n",
    "result = job.result()\n",
    "\n",
    "# Returns counts\n",
    "counts = result.get_counts(compiled_circuit)\n",
    "print(\"\\nTotal count for 00 and 11 are:\",counts)\n",
    "\n",
    "##########\n",
    "# ANALYZE\n",
    "##########\n",
    "# Draw the circuit\n",
    "circuit.draw()"
   ]
  }
 ],
 "metadata": {
  "kernelspec": {
   "display_name": "Python 3.8.13 ('.venv': venv)",
   "language": "python",
   "name": "python3"
  },
  "language_info": {
   "codemirror_mode": {
    "name": "ipython",
    "version": 3
   },
   "file_extension": ".py",
   "mimetype": "text/x-python",
   "name": "python",
   "nbconvert_exporter": "python",
   "pygments_lexer": "ipython3",
   "version": "3.8.13"
  },
  "orig_nbformat": 4,
  "vscode": {
   "interpreter": {
    "hash": "d5e6e199728daf72a84be55f9b05f96569e7135ca679c86e02f7a9de292ecfc6"
   }
  }
 },
 "nbformat": 4,
 "nbformat_minor": 2
}
