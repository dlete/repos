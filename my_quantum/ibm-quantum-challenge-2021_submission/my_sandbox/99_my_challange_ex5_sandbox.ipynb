{
 "metadata": {
  "language_info": {
   "codemirror_mode": {
    "name": "ipython",
    "version": 3
   },
   "file_extension": ".py",
   "mimetype": "text/x-python",
   "name": "python",
   "nbconvert_exporter": "python",
   "pygments_lexer": "ipython3",
   "version": "3.8.5"
  },
  "orig_nbformat": 2,
  "kernelspec": {
   "name": "pythonjvsc74a57bd0dfcb31fefdb7958f0d0ed182cf37609432269e59c44e0e9d81801bdcb08dfdbd",
   "display_name": "Python 3.8.5  ('.venv': venv)"
  },
  "metadata": {
   "interpreter": {
    "hash": "dfcb31fefdb7958f0d0ed182cf37609432269e59c44e0e9d81801bdcb08dfdbd"
   }
  }
 },
 "nbformat": 4,
 "nbformat_minor": 2,
 "cells": [
  {
   "source": [
    "# ex5"
   ],
   "cell_type": "markdown",
   "metadata": {}
  },
  {
   "source": [
    "## Goal\n",
    "\n",
    "Find the shortest ansatz circuits for representing accurately the ground state of given problems. Be creative!\n",
    "\n",
    "## Plan\n",
    "\n",
    "First you will learn how to compose a VQE simulation for the smallest molecule and then apply what you have learned to a case of a larger one.\n",
    "\n",
    "1. Tutorial - VQE for H2: familiarize yourself with VQE and select the best combination of ansatz/classical optimizer by running statevector simulations.\n",
    "\n",
    "2. Final Challenge - VQE for LiH: perform similar investigation as in the first part but restricting to statevector simulator only. Use the qubit number reduction schemes available in Qiskit and find the optimal circuit for this larger system. Optimize the circuit and use your imagination to find ways to select the best building blocks of parameterized circuits and compose them to construct the most compact ansatz circuit for the ground state, better than the ones already available in Qiskit."
   ],
   "cell_type": "markdown",
   "metadata": {}
  },
  {
   "source": [
    "Variational Quantum Eigensolver (VQE), an algorithm meant for finding the ground state energy (lowest energy) of a molecule,\n",
    "\n",
    "VQE's magic comes from outsourcing some of the problem's processing workload to a classical computer. \n",
    "\n",
    "The algorithm starts with a parameterized quantum circuit called an ansatz (a best guess)  \n",
    "then finds the optimal parameters for this circuit using a classical optimizer. \n",
    "\n",
    "The VQE's advantage over classical algorithms comes from the fact that a quantum processing unit can represent and store the problem's exact wavefunction, an exponentially hard problem for a classical computer."
   ],
   "cell_type": "markdown",
   "metadata": {}
  },
  {
   "source": [
    "As a result, if we wish it implement them on a quantum computer we need to map the operators to unitary matrices that can be implemented on a quantum computer. The Jordan–Wigner representation gives one such map. \n",
    "\n",
    "1. Driver. By running a driver (Hartree-Fock calculation for a given basis set and molecular geometry), we obtain all the necessary information about our molecule to apply then a quantum algorithm.\n",
    "2. Electronic structure problem. You can then create an ElectronicStructureProblem that can produce the list of fermionic operators before mapping them to qubits (Pauli strings).\n",
    "3. QubitConverter. Allows to define the mapping that you will use in the simulation. You can try different mapping but we will stick to JordanWignerMapper as allows a simple correspondence: a qubit represents a spin-orbital in the molecule.\n",
    "4. Initial state. As we described in the Theory section, a good initial state in chemistry is the HF state (i.e. |Ψ𝐻𝐹⟩=|0101⟩). We can initialize it as follows:\n",
    "5. Ansatz. One of the most important choices is the quantum circuit that you choose to approximate your ground state. Here is the example of qiskit circuit library that contains many possibilities for making your own circuit.\n",
    "6. Backend. This is where you specify the simulator or device where you want to run your algorithm. We will focus on the statevector_simulator in this challenge.\n",
    "7. Optimizer. The optimizer guides the evolution of the parameters of the ansatz so it is very important to investigate the energy convergence as it would define the number of measurements that have to be performed on the QPU. A clever choice might reduce drastically the number of needed energy evaluations.\n",
    "8. Exact eigensolver. For learning purposes, we can solve the problem exactly with the exact diagonalization of the Hamiltonian matrix so we know where to aim with VQE. Of course, the dimensions of this matrix scale exponentially in the number of molecular orbitals so you can try doing this for a large molecule of your choice and see how slow this becomes. For very large systems you would run out of memory trying to store their wavefunctions.\n",
    "9. VQE and initial parameters for the ansatz. Now we can import the VQE class and run the algorithm.\n",
    "9. Scoring function. We need to judge how good are your VQE simulations, your choice of ansatz/optimizer. For this, we implemented the following simple scoring function:"
   ],
   "cell_type": "markdown",
   "metadata": {}
  },
  {
   "source": [
    "Tutorial questions 2\n",
    "\n",
    "Experiment with all the parameters and then:\n",
    "\n",
    "1. Can you find your best (best score) heuristic ansatz (by modifying parameters of TwoLocal ansatz) and optimizer?\n",
    "2. Can you find your best q-UCC ansatz (choose among UCCSD, PUCCD or SUCCD ansatzes) and optimizer?\n",
    "3. In the cell where we define the ansatz, can you modify the Custom ansatz by placing gates yourself to write a better circuit than your TwoLocal circuit?\n",
    "\n",
    "For each question, give ansatz objects. Remember, you have to reach the chemical accuracy |𝐸𝑒𝑥𝑎𝑐𝑡−𝐸𝑉𝑄𝐸|≤0.004 Ha =4 mHa."
   ],
   "cell_type": "markdown",
   "metadata": {}
  },
  {
   "source": [
    "Tanya Garg May 22nd at 9:11 PM\n",
    "Any hints on how to get to 4 qubits in ex5?\n",
    "\n",
    "\n",
    "\n",
    "\n",
    "8 replies\n",
    "\n",
    "Diego Emilio Serrano:m:  3 days ago\n",
    "Yes! You need to find out which orbitals have small contributions and remove them\n",
    ":+1:\n",
    "1\n",
    "\n",
    "\n",
    "Brian Shi  3 days ago\n",
    "where can we explicitly remove orbitals? Is it in 'problem' or qubit_converter?\n",
    "\n",
    "Diego Emilio Serrano:m:  3 days ago\n",
    "@Brian Shi. It shouldn’t take long to find it by looking at the documentation :wink:\n",
    ":+1:\n",
    "2\n",
    "\n",
    "\n",
    "Divyanshu Singh  3 days ago\n",
    "How to remove the extra orbitals?\n",
    "\n",
    "Diego Emilio Serrano:m:  3 days ago\n",
    "Here’s a hint. Make sure you’re freezing the core orbitals of the qmolecule before removing any extra orbitals (edited) \n",
    "\n",
    "Polina Levyant  3 days ago\n",
    "@diemilio isn't that a default for the FreezeCoreTransformer that the core orbitals are frozen, but by removing orbitals in your first comment do you mean removing extra unoccupied ones?\n",
    ":100:\n",
    "1\n",
    "\n",
    "\n",
    "Diego Emilio Serrano:m:  3 days ago\n",
    "Correct\n",
    ":+1:\n",
    "4\n",
    "\n",
    "\n",
    "Tanya Garg  3 days ago\n",
    "Thanks a lot for your help @diemilio!!"
   ],
   "cell_type": "markdown",
   "metadata": {}
  }
 ]
}