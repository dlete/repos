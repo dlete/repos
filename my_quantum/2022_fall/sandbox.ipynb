{
 "cells": [
  {
   "cell_type": "code",
   "execution_count": 3,
   "metadata": {},
   "outputs": [
    {
     "name": "stdout",
     "output_type": "stream",
     "text": [
      "0\n",
      "1\n",
      "2\n",
      "3\n",
      "4\n",
      "5\n"
     ]
    }
   ],
   "source": [
    "#n= 3\n",
    "#for i in range(n):\n",
    "#    print(i)\n",
    "\n",
    "string = \"hola\"\n",
    "string_length = len(string)\n",
    "for i in range(string_length):\n",
    "    print(i)\n",
    "print(string_length)\n",
    "print(string_length+1)"
   ]
  },
  {
   "cell_type": "markdown",
   "metadata": {},
   "source": [
    "<https://lab.quantum-computing.ibm.com/user/6070803ad6cf8633b5e8533e/lab/tree/quantum-challenge/2022-fall/lab-1>\n",
    "Using Runtime to run this circuit\n",
    "There is a CNOT gate between four H-gates and it is same as a reversed CNOT gate. This is an example of kickback (or phase kickback) which is where the eigenvalue added by a gate to a qubit is kicked back into a different qubit via a controlled operation. It makes the Bernstein Vazirani circuit reveal the hidden bit string.\n",
    "\n",
    "Parameterized circuits\n",
    "To see it, let's introduce another example of kickback with a controlled P-gate (phase gate). Here, we parametrise the P-gate with a rotation parameter theta:"
   ]
  }
 ],
 "metadata": {
  "kernelspec": {
   "display_name": "Python 3.8.13 ('.venv': venv)",
   "language": "python",
   "name": "python3"
  },
  "language_info": {
   "codemirror_mode": {
    "name": "ipython",
    "version": 3
   },
   "file_extension": ".py",
   "mimetype": "text/x-python",
   "name": "python",
   "nbconvert_exporter": "python",
   "pygments_lexer": "ipython3",
   "version": "3.8.13"
  },
  "orig_nbformat": 4,
  "vscode": {
   "interpreter": {
    "hash": "d5e6e199728daf72a84be55f9b05f96569e7135ca679c86e02f7a9de292ecfc6"
   }
  }
 },
 "nbformat": 4,
 "nbformat_minor": 2
}
